{
 "cells": [
  {
   "cell_type": "code",
   "execution_count": 44,
   "metadata": {},
   "outputs": [],
   "source": [
    "import pandas as pd"
   ]
  },
  {
   "cell_type": "code",
   "execution_count": 45,
   "metadata": {},
   "outputs": [],
   "source": [
    "df = pd.read_csv('HiveLink - Sheet1.csv')\n",
    "df_clean = df.iloc[1:865].copy()"
   ]
  },
  {
   "cell_type": "code",
   "execution_count": 46,
   "metadata": {},
   "outputs": [
    {
     "data": {
      "text/html": [
       "<div>\n",
       "<style scoped>\n",
       "    .dataframe tbody tr th:only-of-type {\n",
       "        vertical-align: middle;\n",
       "    }\n",
       "\n",
       "    .dataframe tbody tr th {\n",
       "        vertical-align: top;\n",
       "    }\n",
       "\n",
       "    .dataframe thead th {\n",
       "        text-align: right;\n",
       "    }\n",
       "</style>\n",
       "<table border=\"1\" class=\"dataframe\">\n",
       "  <thead>\n",
       "    <tr style=\"text-align: right;\">\n",
       "      <th></th>\n",
       "      <th>Date</th>\n",
       "      <th>Time</th>\n",
       "      <th>Hive Temperature( °C )</th>\n",
       "      <th>Hive Humidity( % )</th>\n",
       "      <th>Supplement Quantity( mL )</th>\n",
       "      <th>Weight(Grams)</th>\n",
       "    </tr>\n",
       "  </thead>\n",
       "  <tbody>\n",
       "    <tr>\n",
       "      <th>860</th>\n",
       "      <td>10/31/2023</td>\n",
       "      <td>11:01 PM</td>\n",
       "      <td>28.7</td>\n",
       "      <td>56</td>\n",
       "      <td>409</td>\n",
       "      <td>4.86</td>\n",
       "    </tr>\n",
       "    <tr>\n",
       "      <th>861</th>\n",
       "      <td>10/31/2023</td>\n",
       "      <td>11:02 PM</td>\n",
       "      <td>28.8</td>\n",
       "      <td>56</td>\n",
       "      <td>424</td>\n",
       "      <td>5.86</td>\n",
       "    </tr>\n",
       "    <tr>\n",
       "      <th>862</th>\n",
       "      <td>10/31/2023</td>\n",
       "      <td>11:03 PM</td>\n",
       "      <td>28.8</td>\n",
       "      <td>56</td>\n",
       "      <td>406</td>\n",
       "      <td>10.07</td>\n",
       "    </tr>\n",
       "    <tr>\n",
       "      <th>863</th>\n",
       "      <td>10/31/2023</td>\n",
       "      <td>11:04 PM</td>\n",
       "      <td>28.8</td>\n",
       "      <td>56</td>\n",
       "      <td>404</td>\n",
       "      <td>5.76</td>\n",
       "    </tr>\n",
       "    <tr>\n",
       "      <th>864</th>\n",
       "      <td>10/31/2023</td>\n",
       "      <td>11:05 PM</td>\n",
       "      <td>28.8</td>\n",
       "      <td>55</td>\n",
       "      <td>412</td>\n",
       "      <td>4.85</td>\n",
       "    </tr>\n",
       "  </tbody>\n",
       "</table>\n",
       "</div>"
      ],
      "text/plain": [
       "           Date      Time  Hive Temperature( °C )  Hive Humidity( % )  \\\n",
       "860  10/31/2023  11:01 PM                    28.7                  56   \n",
       "861  10/31/2023  11:02 PM                    28.8                  56   \n",
       "862  10/31/2023  11:03 PM                    28.8                  56   \n",
       "863  10/31/2023  11:04 PM                    28.8                  56   \n",
       "864  10/31/2023  11:05 PM                    28.8                  55   \n",
       "\n",
       "     Supplement Quantity( mL )  Weight(Grams)  \n",
       "860                        409           4.86  \n",
       "861                        424           5.86  \n",
       "862                        406          10.07  \n",
       "863                        404           5.76  \n",
       "864                        412           4.85  "
      ]
     },
     "execution_count": 46,
     "metadata": {},
     "output_type": "execute_result"
    }
   ],
   "source": [
    "df_clean.tail()"
   ]
  },
  {
   "cell_type": "code",
   "execution_count": 47,
   "metadata": {},
   "outputs": [
    {
     "data": {
      "text/plain": [
       "Date                         0\n",
       "Time                         0\n",
       "Hive Temperature( °C )       0\n",
       "Hive Humidity( % )           0\n",
       "Supplement Quantity( mL )    0\n",
       "Weight(Grams)                0\n",
       "dtype: int64"
      ]
     },
     "execution_count": 47,
     "metadata": {},
     "output_type": "execute_result"
    }
   ],
   "source": [
    "null_values = df_clean.isnull().sum()\n",
    "null_values"
   ]
  },
  {
   "cell_type": "code",
   "execution_count": 48,
   "metadata": {},
   "outputs": [
    {
     "name": "stderr",
     "output_type": "stream",
     "text": [
      "/var/folders/pw/8gfpzrg9039fnszhf4cd8gfr0000gn/T/ipykernel_96116/226771687.py:2: UserWarning: Could not infer format, so each element will be parsed individually, falling back to `dateutil`. To ensure parsing is consistent and as-expected, please specify a format.\n",
      "  df_clean['Time'] = pd.to_datetime(df_clean['Time'])\n"
     ]
    }
   ],
   "source": [
    "df_clean['Date'] = pd.to_datetime(df_clean['Date'])\n",
    "df_clean['Time'] = pd.to_datetime(df_clean['Time'])\n",
    "\n",
    "#Merge Date and Time as DateTime\n",
    "df_clean.loc[:,'DateTime'] = df_clean['Date'] + pd.to_timedelta(df_clean['Time'].dt.strftime('%H:%M:%S'))\n",
    "\n"
   ]
  },
  {
   "cell_type": "code",
   "execution_count": 49,
   "metadata": {},
   "outputs": [
    {
     "data": {
      "text/html": [
       "<div>\n",
       "<style scoped>\n",
       "    .dataframe tbody tr th:only-of-type {\n",
       "        vertical-align: middle;\n",
       "    }\n",
       "\n",
       "    .dataframe tbody tr th {\n",
       "        vertical-align: top;\n",
       "    }\n",
       "\n",
       "    .dataframe thead th {\n",
       "        text-align: right;\n",
       "    }\n",
       "</style>\n",
       "<table border=\"1\" class=\"dataframe\">\n",
       "  <thead>\n",
       "    <tr style=\"text-align: right;\">\n",
       "      <th></th>\n",
       "      <th>Date</th>\n",
       "      <th>Time</th>\n",
       "      <th>Hive Temperature( °C )</th>\n",
       "      <th>Hive Humidity( % )</th>\n",
       "      <th>Supplement Quantity( mL )</th>\n",
       "      <th>Weight(Grams)</th>\n",
       "      <th>DateTime</th>\n",
       "    </tr>\n",
       "  </thead>\n",
       "  <tbody>\n",
       "    <tr>\n",
       "      <th>1</th>\n",
       "      <td>2023-09-02</td>\n",
       "      <td>2023-11-30 19:47:00</td>\n",
       "      <td>31.3</td>\n",
       "      <td>51</td>\n",
       "      <td>370</td>\n",
       "      <td>8350.84</td>\n",
       "      <td>2023-09-02 19:47:00</td>\n",
       "    </tr>\n",
       "    <tr>\n",
       "      <th>2</th>\n",
       "      <td>2023-09-02</td>\n",
       "      <td>2023-11-30 19:48:00</td>\n",
       "      <td>31.4</td>\n",
       "      <td>52</td>\n",
       "      <td>365</td>\n",
       "      <td>8347.51</td>\n",
       "      <td>2023-09-02 19:48:00</td>\n",
       "    </tr>\n",
       "    <tr>\n",
       "      <th>3</th>\n",
       "      <td>2023-09-02</td>\n",
       "      <td>2023-11-30 19:49:00</td>\n",
       "      <td>31.4</td>\n",
       "      <td>52</td>\n",
       "      <td>356</td>\n",
       "      <td>8351.14</td>\n",
       "      <td>2023-09-02 19:49:00</td>\n",
       "    </tr>\n",
       "    <tr>\n",
       "      <th>4</th>\n",
       "      <td>2023-09-02</td>\n",
       "      <td>2023-11-30 19:50:00</td>\n",
       "      <td>31.4</td>\n",
       "      <td>53</td>\n",
       "      <td>358</td>\n",
       "      <td>8348.68</td>\n",
       "      <td>2023-09-02 19:50:00</td>\n",
       "    </tr>\n",
       "    <tr>\n",
       "      <th>5</th>\n",
       "      <td>2023-09-02</td>\n",
       "      <td>2023-11-30 19:51:00</td>\n",
       "      <td>31.4</td>\n",
       "      <td>53</td>\n",
       "      <td>362</td>\n",
       "      <td>8347.30</td>\n",
       "      <td>2023-09-02 19:51:00</td>\n",
       "    </tr>\n",
       "  </tbody>\n",
       "</table>\n",
       "</div>"
      ],
      "text/plain": [
       "        Date                Time  Hive Temperature( °C )  Hive Humidity( % )  \\\n",
       "1 2023-09-02 2023-11-30 19:47:00                    31.3                  51   \n",
       "2 2023-09-02 2023-11-30 19:48:00                    31.4                  52   \n",
       "3 2023-09-02 2023-11-30 19:49:00                    31.4                  52   \n",
       "4 2023-09-02 2023-11-30 19:50:00                    31.4                  53   \n",
       "5 2023-09-02 2023-11-30 19:51:00                    31.4                  53   \n",
       "\n",
       "   Supplement Quantity( mL )  Weight(Grams)            DateTime  \n",
       "1                        370        8350.84 2023-09-02 19:47:00  \n",
       "2                        365        8347.51 2023-09-02 19:48:00  \n",
       "3                        356        8351.14 2023-09-02 19:49:00  \n",
       "4                        358        8348.68 2023-09-02 19:50:00  \n",
       "5                        362        8347.30 2023-09-02 19:51:00  "
      ]
     },
     "execution_count": 49,
     "metadata": {},
     "output_type": "execute_result"
    }
   ],
   "source": [
    "df_clean.head()"
   ]
  },
  {
   "cell_type": "code",
   "execution_count": 50,
   "metadata": {},
   "outputs": [],
   "source": [
    "#Getting the starting time of the dataset\n",
    "start_time = df_clean['DateTime'].iloc[0]\n",
    "reference_point = pd.to_datetime(start_time)"
   ]
  },
  {
   "cell_type": "code",
   "execution_count": 51,
   "metadata": {},
   "outputs": [],
   "source": [
    "df_clean.drop(['Date', 'Time'], axis=1,inplace=True)"
   ]
  },
  {
   "cell_type": "code",
   "execution_count": 52,
   "metadata": {},
   "outputs": [],
   "source": [
    "#Convert DateTime to numeric\n",
    "df_clean['DateTime_numeric'] = (df_clean['DateTime'] - reference_point).dt.total_seconds()/60"
   ]
  },
  {
   "cell_type": "code",
   "execution_count": 53,
   "metadata": {},
   "outputs": [
    {
     "data": {
      "text/html": [
       "<div>\n",
       "<style scoped>\n",
       "    .dataframe tbody tr th:only-of-type {\n",
       "        vertical-align: middle;\n",
       "    }\n",
       "\n",
       "    .dataframe tbody tr th {\n",
       "        vertical-align: top;\n",
       "    }\n",
       "\n",
       "    .dataframe thead th {\n",
       "        text-align: right;\n",
       "    }\n",
       "</style>\n",
       "<table border=\"1\" class=\"dataframe\">\n",
       "  <thead>\n",
       "    <tr style=\"text-align: right;\">\n",
       "      <th></th>\n",
       "      <th>DateTime_numeric</th>\n",
       "      <th>Supplement Quantity( mL )</th>\n",
       "    </tr>\n",
       "  </thead>\n",
       "  <tbody>\n",
       "    <tr>\n",
       "      <th>1</th>\n",
       "      <td>0.0</td>\n",
       "      <td>370</td>\n",
       "    </tr>\n",
       "    <tr>\n",
       "      <th>2</th>\n",
       "      <td>1.0</td>\n",
       "      <td>365</td>\n",
       "    </tr>\n",
       "    <tr>\n",
       "      <th>3</th>\n",
       "      <td>2.0</td>\n",
       "      <td>356</td>\n",
       "    </tr>\n",
       "    <tr>\n",
       "      <th>4</th>\n",
       "      <td>3.0</td>\n",
       "      <td>358</td>\n",
       "    </tr>\n",
       "    <tr>\n",
       "      <th>5</th>\n",
       "      <td>4.0</td>\n",
       "      <td>362</td>\n",
       "    </tr>\n",
       "  </tbody>\n",
       "</table>\n",
       "</div>"
      ],
      "text/plain": [
       "   DateTime_numeric  Supplement Quantity( mL )\n",
       "1               0.0                        370\n",
       "2               1.0                        365\n",
       "3               2.0                        356\n",
       "4               3.0                        358\n",
       "5               4.0                        362"
      ]
     },
     "execution_count": 53,
     "metadata": {},
     "output_type": "execute_result"
    }
   ],
   "source": [
    "\n",
    "processed_df = df_clean[['DateTime_numeric','Supplement Quantity( mL )']]\n",
    "processed_df.head()"
   ]
  }
 ],
 "metadata": {
  "kernelspec": {
   "display_name": "venv",
   "language": "python",
   "name": "python3"
  },
  "language_info": {
   "codemirror_mode": {
    "name": "ipython",
    "version": 3
   },
   "file_extension": ".py",
   "mimetype": "text/x-python",
   "name": "python",
   "nbconvert_exporter": "python",
   "pygments_lexer": "ipython3",
   "version": "3.11.0"
  }
 },
 "nbformat": 4,
 "nbformat_minor": 2
}
