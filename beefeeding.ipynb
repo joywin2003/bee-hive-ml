{
 "cells": [
  {
   "cell_type": "code",
   "execution_count": 2,
   "metadata": {},
   "outputs": [],
   "source": [
    "import pandas as pd"
   ]
  },
  {
   "cell_type": "code",
   "execution_count": 14,
   "metadata": {},
   "outputs": [],
   "source": [
    "df = pd.read_csv('HiveLink - Sheet1.csv')\n",
    "df_clean = df.head(865)"
   ]
  },
  {
   "cell_type": "code",
   "execution_count": 15,
   "metadata": {},
   "outputs": [
    {
     "data": {
      "text/html": [
       "<div>\n",
       "<style scoped>\n",
       "    .dataframe tbody tr th:only-of-type {\n",
       "        vertical-align: middle;\n",
       "    }\n",
       "\n",
       "    .dataframe tbody tr th {\n",
       "        vertical-align: top;\n",
       "    }\n",
       "\n",
       "    .dataframe thead th {\n",
       "        text-align: right;\n",
       "    }\n",
       "</style>\n",
       "<table border=\"1\" class=\"dataframe\">\n",
       "  <thead>\n",
       "    <tr style=\"text-align: right;\">\n",
       "      <th></th>\n",
       "      <th>Date</th>\n",
       "      <th>Time</th>\n",
       "      <th>Hive Temperature( °C )</th>\n",
       "      <th>Hive Humidity( % )</th>\n",
       "      <th>Supplement Quantity( mL )</th>\n",
       "      <th>Weight(Grams)</th>\n",
       "    </tr>\n",
       "  </thead>\n",
       "  <tbody>\n",
       "    <tr>\n",
       "      <th>860</th>\n",
       "      <td>10/31/2023</td>\n",
       "      <td>11:01 PM</td>\n",
       "      <td>28.7</td>\n",
       "      <td>56</td>\n",
       "      <td>409</td>\n",
       "      <td>4.86</td>\n",
       "    </tr>\n",
       "    <tr>\n",
       "      <th>861</th>\n",
       "      <td>10/31/2023</td>\n",
       "      <td>11:02 PM</td>\n",
       "      <td>28.8</td>\n",
       "      <td>56</td>\n",
       "      <td>424</td>\n",
       "      <td>5.86</td>\n",
       "    </tr>\n",
       "    <tr>\n",
       "      <th>862</th>\n",
       "      <td>10/31/2023</td>\n",
       "      <td>11:03 PM</td>\n",
       "      <td>28.8</td>\n",
       "      <td>56</td>\n",
       "      <td>406</td>\n",
       "      <td>10.07</td>\n",
       "    </tr>\n",
       "    <tr>\n",
       "      <th>863</th>\n",
       "      <td>10/31/2023</td>\n",
       "      <td>11:04 PM</td>\n",
       "      <td>28.8</td>\n",
       "      <td>56</td>\n",
       "      <td>404</td>\n",
       "      <td>5.76</td>\n",
       "    </tr>\n",
       "    <tr>\n",
       "      <th>864</th>\n",
       "      <td>10/31/2023</td>\n",
       "      <td>11:05 PM</td>\n",
       "      <td>28.8</td>\n",
       "      <td>55</td>\n",
       "      <td>412</td>\n",
       "      <td>4.85</td>\n",
       "    </tr>\n",
       "  </tbody>\n",
       "</table>\n",
       "</div>"
      ],
      "text/plain": [
       "           Date      Time  Hive Temperature( °C )  Hive Humidity( % )  \\\n",
       "860  10/31/2023  11:01 PM                    28.7                  56   \n",
       "861  10/31/2023  11:02 PM                    28.8                  56   \n",
       "862  10/31/2023  11:03 PM                    28.8                  56   \n",
       "863  10/31/2023  11:04 PM                    28.8                  56   \n",
       "864  10/31/2023  11:05 PM                    28.8                  55   \n",
       "\n",
       "     Supplement Quantity( mL )  Weight(Grams)  \n",
       "860                        409           4.86  \n",
       "861                        424           5.86  \n",
       "862                        406          10.07  \n",
       "863                        404           5.76  \n",
       "864                        412           4.85  "
      ]
     },
     "execution_count": 15,
     "metadata": {},
     "output_type": "execute_result"
    }
   ],
   "source": [
    "df_clean.tail()"
   ]
  },
  {
   "cell_type": "code",
   "execution_count": 17,
   "metadata": {},
   "outputs": [
    {
     "data": {
      "text/plain": [
       "Date                         0\n",
       "Time                         0\n",
       "Hive Temperature( °C )       0\n",
       "Hive Humidity( % )           0\n",
       "Supplement Quantity( mL )    0\n",
       "Weight(Grams)                0\n",
       "dtype: int64"
      ]
     },
     "execution_count": 17,
     "metadata": {},
     "output_type": "execute_result"
    }
   ],
   "source": [
    "null_values = df_clean.isnull().sum()\n",
    "null_values"
   ]
  },
  {
   "cell_type": "code",
   "execution_count": null,
   "metadata": {},
   "outputs": [],
   "source": []
  }
 ],
 "metadata": {
  "kernelspec": {
   "display_name": "venv",
   "language": "python",
   "name": "python3"
  },
  "language_info": {
   "codemirror_mode": {
    "name": "ipython",
    "version": 3
   },
   "file_extension": ".py",
   "mimetype": "text/x-python",
   "name": "python",
   "nbconvert_exporter": "python",
   "pygments_lexer": "ipython3",
   "version": "3.11.0"
  }
 },
 "nbformat": 4,
 "nbformat_minor": 2
}
